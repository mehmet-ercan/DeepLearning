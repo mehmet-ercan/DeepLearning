{
 "cells": [
  {
   "cell_type": "code",
   "outputs": [],
   "source": [
    "import numpy as np\n",
    "import tensorflow as tf\n",
    "from tensorflow.keras import layers, models, callbacks\n",
    "import os"
   ],
   "metadata": {
    "collapsed": false,
    "ExecuteTime": {
     "end_time": "2024-04-02T23:12:31.792702Z",
     "start_time": "2024-04-02T23:12:31.788335Z"
    }
   },
   "id": "c1f5c1bd32430619",
   "execution_count": 18
  },
  {
   "cell_type": "code",
   "outputs": [],
   "source": [
    "def polynomial(x):\n",
    "    y1 = x[:, 0] * x[:, 1] * x[:, 2] + 1.2 * x[:, 0] * x[:, 4] - 0.1 * x[:, 5] * x[:, 6] * x[:, 7] - 2 * x[:, 0]**2 * x[:, 7] + x[:, 4]\n",
    "    y2 = x[:, 0] * x[:, 4] * x[:, 5] - x[:, 2] * x[:, 3] - 3 * x[:, 1] * x[:, 2] + 2 * x[:, 1]**2 * x[:, 3] - 2 * x[:, 6] * x[:, 7] - 1\n",
    "    y3 = x[:, 2]**2 - x[:, 4] * x[:, 6] - 3 * x[:, 0] * x[:, 3] * x[:, 5] - x[:, 0]**2 * x[:, 2] * x[:, 4] - 1\n",
    "    y4 = -x[:, 5]**3 + 2 * x[:, 0] * x[:, 2] * x[:, 7] - x[:, 0] * x[:, 3] * x[:, 6] - 2 * x[:, 4]**2 * x[:, 1] * x[:, 3] - x[:, 7]\n",
    "    y5 = x[:, 0]**2 * x[:, 4] - 3 * x[:, 2] * x[:, 3] * x[:, 7] + x[:, 0] * x[:, 1] * x[:, 3] - 3 * x[:, 5] + x[:, 0]**2 * x[:, 6] + 2\n",
    "    y6 = x[:, 0]**2 * x[:, 2] * x[:, 5] - x[:, 2] * x[:, 4] * x[:, 6] + x[:, 2] * x[:, 3] + 2.2 * x[:, 1] * x[:, 2]**2 - 1.1\n",
    "    return np.stack([y1, y2, y3, y4, y5, y6], axis=-1)"
   ],
   "metadata": {
    "collapsed": false,
    "ExecuteTime": {
     "end_time": "2024-04-02T23:12:31.803699Z",
     "start_time": "2024-04-02T23:12:31.794464Z"
    }
   },
   "id": "cd39d248cf5c4482",
   "execution_count": 19
  },
  {
   "cell_type": "code",
   "outputs": [],
   "source": [
    "def mse_loss(y_true, y_pred):\n",
    "    return tf.reduce_mean(tf.square(y_pred - y_true))"
   ],
   "metadata": {
    "collapsed": false,
    "ExecuteTime": {
     "end_time": "2024-04-02T23:12:31.806065Z",
     "start_time": "2024-04-02T23:12:31.804398Z"
    }
   },
   "id": "958fa5a9d100d736",
   "execution_count": 20
  },
  {
   "cell_type": "code",
   "outputs": [
    {
     "name": "stdout",
     "output_type": "stream",
     "text": [
      "[]\n"
     ]
    }
   ],
   "source": [
    "np.random.seed(0)\n",
    "Nt = 1000\n",
    "Nv = 100\n",
    "noise_sigma = 0.001\n",
    "\n",
    "print(tf.config.list_physical_devices('GPU'))\n",
    "\n",
    "# Generate the input data\n",
    "x_train = np.random.uniform(low=-1, high=1, size=(Nt, 8))\n",
    "x_val = np.random.uniform(low=-1, high=1, size=(Nv, 8))\n",
    "\n",
    "# Generate the output data with noise\n",
    "y_train = polynomial(x_train) + np.random.normal(scale=noise_sigma)\n",
    "y_val = polynomial(x_val)"
   ],
   "metadata": {
    "collapsed": false,
    "ExecuteTime": {
     "end_time": "2024-04-02T23:12:31.809518Z",
     "start_time": "2024-04-02T23:12:31.806778Z"
    }
   },
   "id": "715b066879fe3085",
   "execution_count": 21
  },
  {
   "cell_type": "code",
   "outputs": [],
   "source": [
    "def build_model(hidden_layer_nodes, activation_fn):\n",
    "    model = models.Sequential()\n",
    "    model.add(layers.Dense(hidden_layer_nodes, activation=activation_fn))\n",
    "    model.add(layers.Dense(hidden_layer_nodes, activation=activation_fn))\n",
    "    model.add(layers.Dense(hidden_layer_nodes, activation=activation_fn))\n",
    "    model.add(layers.Dense(6))\n",
    "    return model\n",
    "\n",
    "def train_model(model, x_train, y_train, x_val, y_val, learning_rate, epochs):\n",
    "    optimizer = tf.keras.optimizers.SGD(learning_rate)\n",
    "    model.compile(optimizer=optimizer, loss=mse_loss, metrics=['mae'])\n",
    "    history = model.fit(x_train, y_train, batch_size=32, epochs=epochs, validation_data=(x_val, y_val))\n",
    "    return history\n",
    "\n",
    "# Train the model with various configurations\n",
    "activations = ['relu', 'tanh', 'sigmoid']\n",
    "learning_rates = [0.01, 0.001, 0.0001]\n",
    "epochs = [1000, 1500, 2000]\n",
    "\n",
    "for activation in activations:\n",
    "    for learning_rate in learning_rates:\n",
    "        for epoch in epochs:\n",
    "            model = build_model(6, activation)\n",
    "            history = train_model(model, x_train, y_train, x_val, y_val, learning_rate, epoch)\n",
    "            print(f'Training and validation errors: {history.history[\"loss\"][-1]:.4f}, {history.history[\"val_loss\"][-1]:.4f}')"
   ],
   "metadata": {
    "collapsed": false,
    "ExecuteTime": {
     "end_time": "2024-04-02T23:12:31.812628Z",
     "start_time": "2024-04-02T23:12:31.810005Z"
    }
   },
   "id": "d110277df35a0a99",
   "execution_count": 22
  },
  {
   "cell_type": "code",
   "outputs": [],
   "source": [
    "def add_nodes_with_training(model, x_train, y_train, x_val, y_val, learning_rate, epochs, nodes_to_add, hidden_layer_nodes):\n",
    "    for i in range(3):\n",
    "        for j in range(nodes_to_add):\n",
    "            model.add(layers.Dense(hidden_layer_nodes + 1, activation=activation))\n",
    "            history = train_model(model, x_train, y_train, x_val, y_val, learning_rate, epochs)\n",
    "            print(f'Training and validation errors with {hidden_layer_nodes + 1} nodes in layer {i + 1}: {history.history[\"loss\"][-1]:.4f}, {history.history[\"val_loss\"][-1]:.4f}')"
   ],
   "metadata": {
    "collapsed": false,
    "ExecuteTime": {
     "end_time": "2024-04-02T23:12:31.815078Z",
     "start_time": "2024-04-02T23:12:31.813122Z"
    }
   },
   "id": "c0eaf168b703bd02",
   "execution_count": 23
  },
  {
   "cell_type": "code",
   "outputs": [],
   "source": [
    "Nt = 1100\n",
    "Nv = 110\n",
    "x_train = np.random.uniform(low=-1, high=1, size=(Nt, 8))\n",
    "y_train = polynomial(x_train) + np.random.normal(scale=noise_sigma, size=y_train.shape)\n",
    "x_val = np.random.uniform(low=-1, high=1, size=(Nv, 8))\n",
    "y_val = polynomial(x_val)\n",
    "\n",
    "# add_nodes_with_training(model, x_train, y_train, x_val, y_val, learning_rate, epochs, 2)"
   ],
   "metadata": {
    "collapsed": false
   },
   "id": "86ca45fe1672c40d"
  }
 ],
 "metadata": {
  "kernelspec": {
   "display_name": "Python 3",
   "language": "python",
   "name": "python3"
  },
  "language_info": {
   "codemirror_mode": {
    "name": "ipython",
    "version": 2
   },
   "file_extension": ".py",
   "mimetype": "text/x-python",
   "name": "python",
   "nbconvert_exporter": "python",
   "pygments_lexer": "ipython2",
   "version": "2.7.6"
  }
 },
 "nbformat": 4,
 "nbformat_minor": 5
}

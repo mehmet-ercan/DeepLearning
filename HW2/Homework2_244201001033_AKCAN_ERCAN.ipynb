{
 "cells": [
  {
   "metadata": {},
   "cell_type": "markdown",
   "source": "### PART 1",
   "id": "a99decb07d62022c"
  },
  {
   "cell_type": "code",
   "source": [
    "# Some Imports\n",
    "\n",
    "from keras.datasets import mnist\n",
    "import numpy as np\n",
    "import matplotlib.pyplot as plt\n",
    "import tensorflow as tf\n",
    "\n",
    "import warnings\n",
    "\n",
    "from keras.utils import to_categorical\n",
    "from keras.models import Sequential\n",
    "from keras.layers import Conv2D\n",
    "from keras.layers import MaxPooling2D\n",
    "from keras.layers import Dense\n",
    "from keras.layers import Flatten\n",
    "from keras.optimizers import SGD\n",
    "from matplotlib import pyplot\n",
    "from numpy import argmax\n",
    "from keras.preprocessing.image import load_img\n",
    "from keras.preprocessing.image import img_to_array\n",
    "from keras.models import load_model\n",
    "\n",
    "warnings.filterwarnings('ignore')"
   ],
   "metadata": {
    "collapsed": false
   },
   "id": "24327c0972ba7e76",
   "outputs": [],
   "execution_count": null
  },
  {
   "cell_type": "code",
   "source": [
    "(X_train, y_train), (X_test, y_test) = mnist.load_data()"
   ],
   "metadata": {
    "collapsed": false
   },
   "id": "1f2d52e69fb36462",
   "outputs": [],
   "execution_count": null
  },
  {
   "cell_type": "code",
   "source": [
    "X_train.size"
   ],
   "metadata": {
    "collapsed": false
   },
   "id": "d947d565cf58396f",
   "outputs": [],
   "execution_count": null
  },
  {
   "cell_type": "code",
   "source": [
    "pyplot.imshow(X_train[3], cmap=pyplot.get_cmap('gray'))\n",
    "pyplot.show()\n",
    "y_train[3]"
   ],
   "metadata": {
    "collapsed": false
   },
   "id": "e5b120b779f1f5cf",
   "outputs": [],
   "execution_count": null
  },
  {
   "cell_type": "code",
   "source": [
    "print('MNIST Dataset Shape:')\n",
    "print('X_train: ' + str(X_train.shape))\n",
    "print('Y_train: ' + str(y_train.shape))\n",
    "print('X_test:  ' + str(X_test.shape))\n",
    "print('Y_test:  ' + str(y_test.shape))"
   ],
   "metadata": {
    "collapsed": false
   },
   "id": "83d0e3c1967b3356",
   "outputs": [],
   "execution_count": null
  },
  {
   "cell_type": "code",
   "source": [
    "model = tf.keras.models.Sequential([\n",
    "    tf.keras.layers.Conv2D(64, (5, 5), activation='relu', input_shape=(28, 28, 1)),\n",
    "    tf.keras.layers.MaxPooling2D((2, 2)),\n",
    "    tf.keras.layers.Conv2D(128, (5, 5), activation='relu'),\n",
    "    tf.keras.layers.MaxPooling2D((2, 2)),\n",
    "    tf.keras.layers.Conv2D(256, (5, 5), activation='relu'),\n",
    "    tf.keras.layers.Flatten(),\n",
    "    tf.keras.layers.Dense(512, activation='relu'),\n",
    "    tf.keras.layers.Dropout(0.5),\n",
    "    tf.keras.layers.Dense(10, activation='softmax')\n",
    "])\n",
    "\n",
    "model.summary()"
   ],
   "metadata": {
    "collapsed": false
   },
   "id": "2f4abd194adc1b7f",
   "outputs": [],
   "execution_count": null
  },
  {
   "cell_type": "code",
   "source": [
    "def load_dataset():\n",
    "    (trainX, trainY), (testX, testY) = mnist.load_data()\n",
    "    trainX = trainX.reshape((trainX.shape[0], 28, 28, 1))\n",
    "    testX = testX.reshape((testX.shape[0], 28, 28, 1))\n",
    "    trainY = to_categorical(trainY)\n",
    "    testY = to_categorical(testY)\n",
    "    return trainX, trainY, testX, testY\n",
    "\n",
    "\n",
    "def prep_pixels(train, test):\n",
    "    train_norm = train.astype('float32')\n",
    "    test_norm = test.astype('float32')\n",
    "    train_norm = train_norm / 255.0\n",
    "    test_norm = test_norm / 255.0\n",
    "    return train_norm, test_norm\n",
    "\n",
    "\n",
    "def define_model():\n",
    "    model = Sequential()\n",
    "    model.add(Conv2D(32, (3, 3), activation='relu', kernel_initializer='he_uniform', input_shape=(28, 28, 1)))\n",
    "    model.add(MaxPooling2D((2, 2)))\n",
    "    model.add(Conv2D(64, (3, 3), activation='relu', kernel_initializer='he_uniform'))\n",
    "    model.add(Conv2D(64, (3, 3), activation='relu', kernel_initializer='he_uniform'))\n",
    "    model.add(MaxPooling2D((2, 2)))\n",
    "    model.add(Flatten())\n",
    "    model.add(Dense(100, activation='relu', kernel_initializer='he_uniform'))\n",
    "    model.add(Dense(10, activation='softmax'))\n",
    "\n",
    "    # compile model\n",
    "    opt = SGD(learning_rate=0.01, momentum=0.9)\n",
    "    model.compile(optimizer=opt, loss='categorical_crossentropy', metrics=['accuracy'])\n",
    "    return model\n",
    "\n",
    "\n",
    "def save_model():\n",
    "    trainX, trainY, testX, testY = load_dataset()\n",
    "    trainX, testX = prep_pixels(trainX, testX)\n",
    "    model = define_model()\n",
    "    model.fit(trainX, trainY, epochs=10, batch_size=32, verbose=0)\n",
    "    model.save(\"built_models/final_model.keras\")\n",
    "\n",
    "\n",
    "save_model()"
   ],
   "metadata": {
    "collapsed": false
   },
   "id": "4295fcc2256f2102",
   "outputs": [],
   "execution_count": null
  },
  {
   "cell_type": "code",
   "source": [
    "def run_test_harness():\n",
    "    trainX, trainY, testX, testY = load_dataset()\n",
    "    trainX, testX = prep_pixels(trainX, testX)\n",
    "    model = load_model('built_models/final_model.keras')\n",
    "    _, acc = model.evaluate(testX, testY, verbose=0)\n",
    "    print('> %.3f' % (acc * 100.0))\n",
    "\n",
    "\n",
    "run_test_harness()"
   ],
   "metadata": {
    "collapsed": false
   },
   "id": "40d0ff8a51f3fceb",
   "outputs": [],
   "execution_count": null
  },
  {
   "cell_type": "code",
   "source": [
    "def load_image(filename):\n",
    "    img = load_img(filename, color_mode=\"grayscale\", target_size=(28, 28))\n",
    "    img = img_to_array(img)  # convert to array\n",
    "    img = img.reshape(1, 28, 28, 1)  # reshape into a single sample with 1 channel\n",
    "    img = img.astype('float32')  # prepare pixel data\n",
    "    img = img / 255.0\n",
    "    return img\n",
    "\n",
    "\n",
    "def run_example(imgPath):\n",
    "    img = load_image(imgPath)\n",
    "    plt.imshow(img.reshape(28, 28), cmap='gray')\n",
    "    model = load_model('built_models/final_model.keras')\n",
    "    predict_value = model.predict(img)\n",
    "\n",
    "    for val in predict_value[0]:  # if you see points for each digit \n",
    "        print(format(val, '.20f'))\n",
    "\n",
    "    digit = argmax(predict_value)\n",
    "    print(digit)"
   ],
   "metadata": {
    "collapsed": false
   },
   "id": "8b529f8681a00b6b",
   "outputs": [],
   "execution_count": null
  },
  {
   "metadata": {},
   "cell_type": "code",
   "source": "run_example('test_images/1.png')",
   "id": "5f12b7bbdfce35c",
   "outputs": [],
   "execution_count": null
  },
  {
   "metadata": {},
   "cell_type": "markdown",
   "source": "### PART 2",
   "id": "362b75d3e2a4a54a"
  },
  {
   "metadata": {
    "ExecuteTime": {
     "end_time": "2024-05-05T14:55:18.196455Z",
     "start_time": "2024-05-05T14:55:18.142760Z"
    }
   },
   "cell_type": "code",
   "source": [
    "model = tf.keras.models.load_model('built_models/final_model.keras')\n",
    "optimizer = tf.keras.optimizers.Adam()\n",
    "\n",
    "learning_rate = 0.001\n",
    "num_iterations = 1000\n",
    "\n",
    "desired_output = np.zeros((1, 10))  # desired_output = [0, 0, 0, 0, 0, 0, 0, 0, 0, 0]\n",
    "desired_output[0, 3] = 1  # desired_output = [0, 0, 0, 1, 0, 0, 0, 0, 0, 0]\n",
    "\n",
    "\n",
    "def loss_fn(y_true, y_pred):  # loss function\n",
    "    return tf.reduce_mean(tf.square(y_pred - y_true))\n",
    "\n",
    "\n",
    "def input_optimization(input, desired_output):\n",
    "    input_image = None\n",
    "    if input is None:\n",
    "        input_shape = (28, 28, 1)  # 28x28 grayscele image\n",
    "        input_image = 0.5 * np.random.random(input_shape) + 0.5  # random grayscale image\n",
    "    else:\n",
    "        input_image = load_image(input)\n",
    "\n",
    "    for i in range(num_iterations):  # optimization\n",
    "        with tf.GradientTape() as tape:\n",
    "            input_tensor = tf.convert_to_tensor(input_image)  # input to tensor\n",
    "            input_tensor = tf.reshape(input_tensor, (1, 28, 28, 1))\n",
    "            model_output = model(input_tensor)\n",
    "            loss = loss_fn(desired_output, model_output)  # compute loss\n",
    "\n",
    "        gradients = tape.gradient(loss, input_tensor)\n",
    "\n",
    "        if gradients is not None:  # update the inpat image\n",
    "            input_image -= learning_rate * gradients.numpy()\n",
    "\n",
    "    if input is None:\n",
    "        plt.imshow(input_image, cmap='gray')\n",
    "    else:\n",
    "        plt.imshow(input_image[0, :, :, 0], cmap='gray')\n",
    "\n",
    "    plt.show()"
   ],
   "id": "f1527ce8bc6d4e7a",
   "outputs": [],
   "execution_count": 34
  },
  {
   "metadata": {},
   "cell_type": "markdown",
   "source": "### Random image",
   "id": "56c6cec1d67ca50f"
  },
  {
   "metadata": {},
   "cell_type": "code",
   "source": "input_optimization(None, desired_output)",
   "id": "75010883915b5441",
   "outputs": [],
   "execution_count": null
  },
  {
   "metadata": {},
   "cell_type": "markdown",
   "source": "### Actual image of the digit with noise added",
   "id": "d26bccb868f3f213"
  },
  {
   "metadata": {},
   "cell_type": "code",
   "source": "input_optimization('test_images/3_noised.png', desired_output)",
   "id": "923fe43763fcaca6",
   "outputs": [],
   "execution_count": null
  },
  {
   "metadata": {},
   "cell_type": "markdown",
   "source": "### For All Digits",
   "id": "5b6a63918d65215"
  },
  {
   "metadata": {
    "ExecuteTime": {
     "end_time": "2024-05-05T14:57:09.892005Z",
     "start_time": "2024-05-05T14:56:28.983411Z"
    }
   },
   "cell_type": "code",
   "source": [
    "for i in range(10):\n",
    "    desired_output = np.zeros((1, 10))  # desired_output = [0, 0, 0, 0, 0, 0, 0, 0, 0, 0]\n",
    "    desired_output[0, i] = 1  # desired_output = [0, 0, 0, 1, 0, 0, 0, 0, 0, 0]\n",
    "    input_optimization(None, desired_output)"
   ],
   "id": "374254f00613a9be",
   "outputs": [
    {
     "data": {
      "text/plain": [
       "<Figure size 640x480 with 1 Axes>"
      ],
      "image/png": "[encoded data removed]"
     },
     "metadata": {},
     "output_type": "display_data"
    },
    {
     "data": {
      "text/plain": [
       "<Figure size 640x480 with 1 Axes>"
      ],
      "image/png": "[encoded data removed]"
     },
     "metadata": {},
     "output_type": "display_data"
    },
    {
     "data": {
      "text/plain": [
       "<Figure size 640x480 with 1 Axes>"
      ],
      "image/png": "[encoded data removed]"
     },
     "metadata": {},
     "output_type": "display_data"
    },
    {
     "data": {
      "text/plain": [
       "<Figure size 640x480 with 1 Axes>"
      ],
      "image/png": "[encoded data removed]"
     },
     "metadata": {},
     "output_type": "display_data"
    }
   ],
   "execution_count": 37
  },
  {
   "metadata": {},
   "cell_type": "code",
   "outputs": [],
   "execution_count": null,
   "source": "",
   "id": "b688d991cafb4fbc"
  }
 ],
 "metadata": {
  "kernelspec": {
   "display_name": "Python 3",
   "language": "python",
   "name": "python3"
  },
  "language_info": {
   "codemirror_mode": {
    "name": "ipython",
    "version": 2
   },
   "file_extension": ".py",
   "mimetype": "text/x-python",
   "name": "python",
   "nbconvert_exporter": "python",
   "pygments_lexer": "ipython2",
   "version": "2.7.6"
  }
 },
 "nbformat": 4,
 "nbformat_minor": 5
}

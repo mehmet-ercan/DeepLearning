{
 "cells": [
  {
   "cell_type": "code",
   "outputs": [],
   "source": [
    "from keras.datasets import mnist"
   ],
   "metadata": {
    "collapsed": false
   },
   "id": "73a0427faf9e1d5a",
   "execution_count": null
  },
  {
   "cell_type": "code",
   "outputs": [],
   "source": [
    "(X_train, y_train), (X_test, y_test) = mnist.load_data()"
   ],
   "metadata": {
    "collapsed": false
   },
   "id": "d8904858595cb8f",
   "execution_count": null
  },
  {
   "cell_type": "code",
   "outputs": [],
   "source": [
    "X_train.size"
   ],
   "metadata": {
    "collapsed": false
   },
   "id": "3f72da1ec9528288",
   "execution_count": null
  },
  {
   "cell_type": "code",
   "outputs": [],
   "source": [
    "from matplotlib import pyplot\n",
    "pyplot.imshow(X_train[3], cmap=pyplot.get_cmap('gray'))\n",
    "pyplot.show()\n",
    "y_train[3]"
   ],
   "metadata": {
    "collapsed": false
   },
   "id": "516164f38d9ae2ab",
   "execution_count": null
  },
  {
   "cell_type": "code",
   "outputs": [],
   "source": [
    "print('MNIST Dataset Shape:')\n",
    "print('X_train: ' + str(X_train.shape))\n",
    "print('Y_train: ' + str(y_train.shape))\n",
    "print('X_test:  '  + str(X_test.shape))\n",
    "print('Y_test:  '  + str(y_test.shape))"
   ],
   "metadata": {
    "collapsed": false
   },
   "id": "eed689013e2eb8c",
   "execution_count": null
  },
  {
   "cell_type": "code",
   "outputs": [],
   "source": [],
   "metadata": {
    "collapsed": false
   },
   "id": "9281c5cba1a6584c"
  }
 ],
 "metadata": {
  "kernelspec": {
   "display_name": "Python 3",
   "language": "python",
   "name": "python3"
  },
  "language_info": {
   "codemirror_mode": {
    "name": "ipython",
    "version": 2
   },
   "file_extension": ".py",
   "mimetype": "text/x-python",
   "name": "python",
   "nbconvert_exporter": "python",
   "pygments_lexer": "ipython2",
   "version": "2.7.6"
  }
 },
 "nbformat": 4,
 "nbformat_minor": 5
}
